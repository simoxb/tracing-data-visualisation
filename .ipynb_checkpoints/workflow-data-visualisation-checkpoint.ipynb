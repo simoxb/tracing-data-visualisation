{
 "cells": [
  {
   "cell_type": "code",
   "execution_count": 2,
   "id": "13e11d48",
   "metadata": {
    "scrolled": false
   },
   "outputs": [
    {
     "name": "stdout",
     "output_type": "stream",
     "text": [
      "    infrastructure wf_version   aligner dataset_size  run_number  \\\n",
      "54         redwood        RS1    HISAT2        large           1   \n",
      "55         redwood        RS1    HISAT2        large           2   \n",
      "56         redwood        RS1    HISAT2        large           3   \n",
      "57         redwood        RS1    HISAT2       medium           1   \n",
      "58         redwood        RS1    HISAT2       medium           2   \n",
      "..             ...        ...       ...          ...         ...   \n",
      "122        redwood        RS2  kallisto       medium           2   \n",
      "123        redwood        RS2  kallisto       medium           3   \n",
      "124        redwood        RS2  kallisto        small           1   \n",
      "125        redwood        RS2  kallisto        small           2   \n",
      "126        redwood        RS2  kallisto        small           3   \n",
      "\n",
      "     Unnamed: 0.97  Unnamed: 0.96  Unnamed: 0.95  Unnamed: 0.94  \\\n",
      "54               8              8              8              8   \n",
      "55               8              8              8              8   \n",
      "56               8              8              8              8   \n",
      "57               8              8              8              8   \n",
      "58               8              8              8              8   \n",
      "..             ...            ...            ...            ...   \n",
      "122             15             15             15             15   \n",
      "123             15             15             15             15   \n",
      "124             15             15             15             15   \n",
      "125             15             15             15             15   \n",
      "126             15             15             15             15   \n",
      "\n",
      "     Unnamed: 0.93  ...  wchar  syscr  syscw  read_bytes  write_bytes  \\\n",
      "54               8  ...      8      8      8           8            8   \n",
      "55               8  ...      8      8      8           8            8   \n",
      "56               8  ...      8      8      8           8            8   \n",
      "57               8  ...      8      8      8           8            8   \n",
      "58               8  ...      8      8      8           8            8   \n",
      "..             ...  ...    ...    ...    ...         ...          ...   \n",
      "122             15  ...     15     15     15          15           15   \n",
      "123             15  ...     15     15     15          15           15   \n",
      "124             15  ...     15     15     15          15           15   \n",
      "125             15  ...     15     15     15          15           15   \n",
      "126             15  ...     15     15     15          15           15   \n",
      "\n",
      "     vol_ctxt  inv_ctxt  env  workdir  hostname  \n",
      "54          8         8    8        8         0  \n",
      "55          8         8    8        8         0  \n",
      "56          8         8    8        8         0  \n",
      "57          8         8    8        8         0  \n",
      "58          8         8    8        8         0  \n",
      "..        ...       ...  ...      ...       ...  \n",
      "122        15        15   15        0         0  \n",
      "123        15        15   15        0         0  \n",
      "124        15        15   15        0         0  \n",
      "125        15        15   15        0         0  \n",
      "126        15        15   15        0         0  \n",
      "\n",
      "[73 rows x 141 columns]\n",
      "Index(['infrastructure', 'wf_version', 'aligner', 'dataset_size', 'run_number',\n",
      "       'Unnamed: 0.97', 'Unnamed: 0.96', 'Unnamed: 0.95', 'Unnamed: 0.94',\n",
      "       'Unnamed: 0.93',\n",
      "       ...\n",
      "       'wchar', 'syscr', 'syscw', 'read_bytes', 'write_bytes', 'vol_ctxt',\n",
      "       'inv_ctxt', 'env', 'workdir', 'hostname'],\n",
      "      dtype='object', length=141)\n"
     ]
    }
   ],
   "source": [
    "#transform redwood traces to pandas-importable csv-files\n",
    "import sys\n",
    "import os\n",
    "import chart_studio.plotly as py\n",
    "import pandas as pd\n",
    "import seaborn as sb\n",
    "import matplotlib.pyplot as plt\n",
    "from ipywidgets import interact, interactive, fixed, interact_manual\n",
    "from datetime import datetime\n",
    "import plotly.express as px\n",
    "import plotly.graph_objects as go\n",
    "\n",
    "wfs = [\"RS1\", \"RS2\"]\n",
    "sizes = [\"small\", \"medium\", \"large\"]\n",
    "run_numbers = [\"1\", \"2\", \"3\"]\n",
    "clusters = [\"redwood\", \"kubernetes-cluster\"]\n",
    "aligners = [\"STAR\", \"kallisto\", \"HISAT2\", \"Salmon\"]\n",
    "dfs = pd.read_csv(\"result-filtered-columns.csv\")\n",
    "x = dfs.groupby([\"infrastructure\", \"wf_version\",\"aligner\", \"dataset_size\",\"run_number\"]).count()\n",
    "x.reset_index(inplace=True)\n",
    "x[[\"infrastructure\", \"wf_version\", \"aligner\", \"dataset_size\",\"run_number\"]].to_csv(\"workflows_run.csv\")\n",
    "print(x[(x.infrastructure==\"redwood\")])\n",
    "dfs = dfs[['task_id', 'hash', 'native_id', 'process', 'tag', 'name', 'status', 'exit', 'module', 'container', 'cpus', 'time', 'disk', 'memory', 'attempt', 'submit', 'start', 'complete', 'duration', 'realtime', 'queue', '%cpu', '%mem', 'rss', 'vmem', 'peak_rss', 'peak_vmem', 'rchar', 'wchar', 'syscr', 'syscw', 'read_bytes', 'write_bytes', 'vol_ctxt', 'inv_ctxt', 'env', 'workdir', 'wf_version', 'dataset_size', 'run_number', 'infrastructure', 'aligner', 'hostname']]\n",
    "print(x.co)"
   ]
  },
  {
   "cell_type": "code",
   "execution_count": 25,
   "id": "f8e5ec45",
   "metadata": {},
   "outputs": [],
   "source": [
    "#transform data from MB/GB to MB; from str to float\n",
    "categories = [\"read_bytes\", \"write_bytes\", \"rss\", \"vmem\",\"rchar\",\"wchar\"]\n",
    "for el in categories:\n",
    "    tmp = dfs[el].tolist()\n",
    "    final = []\n",
    "    for element in tmp:\n",
    "        try:\n",
    "            x = float(element)\n",
    "        except ValueError:\n",
    "            y = element.split(\" \")\n",
    "            if(y[-1]==\"MB\"):\n",
    "                x = float(y[0])\n",
    "            elif(y[-1]==\"GB\"):\n",
    "                x = float(y[0]) * 1000\n",
    "            elif(y[-1]==\"KB\"):\n",
    "                x = float(y[0]) / 1000\n",
    "            else:\n",
    "            #    raise Exception(\"object is not int, KB, MB, GB: \" + element)\n",
    "                 pass\n",
    "        final.append(x)\n",
    "    dfs[el] = final"
   ]
  },
  {
   "cell_type": "code",
   "execution_count": 26,
   "id": "0a7f62f5",
   "metadata": {
    "scrolled": false
   },
   "outputs": [],
   "source": [
    "#transform duration from string to seconds\n",
    "tmp = dfs[\"duration\"].tolist()\n",
    "final = []\n",
    "for el in tmp: \n",
    "    duration = 0\n",
    "    time_list = el.split(\" \")\n",
    "    for element in time_list:\n",
    "        time_unit = element[-1:]\n",
    "        if(time_unit == \"s\"):\n",
    "            duration += float(element[:-1])\n",
    "        elif(time_unit == \"m\"):\n",
    "            duration += (60*float(element[:-1]))\n",
    "        elif(time_unit == \"h\"):\n",
    "            duration += (3600*float(element[:-1]))\n",
    "    final.append(duration)\n",
    "dfs[\"duration\"] = final\n"
   ]
  },
  {
   "cell_type": "code",
   "execution_count": 27,
   "id": "b0eec75d",
   "metadata": {},
   "outputs": [],
   "source": [
    "#for each workflow run, get duration of wf\n",
    "df_tmp = dfs[[\"wf_version\",\"infrastructure\",\"aligner\",\"dataset_size\",\"run_number\",\"start\",\"complete\"]]\n",
    "time_per_wf = df_tmp.groupby([\"wf_version\",\"infrastructure\",\"aligner\",\"dataset_size\",\"run_number\"]).agg({\"start\": \"min\",\"complete\": \"max\"})\n",
    "start = time_per_wf[\"start\"].tolist()\n",
    "end = time_per_wf[\"complete\"].tolist()\n",
    "start_stamps = []\n",
    "end_stamps = []\n",
    "time_d = []\n",
    "for k in range(len(start)):\n",
    "    start_stamps.append(datetime.strptime(start[k], \"%Y-%m-%d %H:%M:%S.%f\")) \n",
    "    end_stamps.append(datetime.strptime(end[k], \"%Y-%m-%d %H:%M:%S.%f\")) \n",
    "    time_d.append((end_stamps[k] - start_stamps[k]).total_seconds()/60)\n",
    "time_per_wf[\"wf_duration\"] = time_d\n",
    "time_per_wf.reset_index(inplace=True)\n"
   ]
  },
  {
   "cell_type": "code",
   "execution_count": 28,
   "id": "45f297ca",
   "metadata": {
    "scrolled": false
   },
   "outputs": [
    {
     "data": {
      "application/vnd.jupyter.widget-view+json": {
       "model_id": "4d4e47506fab4546a5843f8f394b7d66",
       "version_major": 2,
       "version_minor": 0
      },
      "text/plain": [
       "interactive(children=(Checkbox(value=False, description='generate_plotly'), Dropdown(description='workflow_ver…"
      ]
     },
     "metadata": {},
     "output_type": "display_data"
    }
   ],
   "source": [
    "#show per wf-version, dataset and aligner: read/written bytes, rss, vmem per task\n",
    "categories = [\"read_bytes\", \"write_bytes\", \"vmem\", \"rss\", \"duration\", \"rchar\", \"wchar\",\"syscr\",\"syscw\"]\n",
    "@interact\n",
    "def plot_features(generate_plotly=False, workflow_version = wfs, dataset = sizes, category = categories, infrastructure = clusters, aligner = aligners) :\n",
    "    #fig = plt.figure(figsize=(8,4))\n",
    "    #sb.set(style=\"ticks\")    \n",
    "    tmp = dfs[(dfs.dataset_size == str(dataset)) \\\n",
    "              & (dfs.wf_version == str(workflow_version)) \\\n",
    "              & (dfs.infrastructure == str(infrastructure)) \\\n",
    "              & (dfs.aligner == str(aligner))]\n",
    "    \n",
    "    sb.stripplot(data = tmp, y = \"process\", x = str(category))       \n",
    "    plt.title(aligner + \"\\n\" + infrastructure + \"\\n workflow: \" + workflow_version + \", dataset: \" + str(dataset))\n",
    "    plt.show()\n",
    "    \n",
    "    if(generate_plotly == True):\n",
    "        fig = px.strip(data_frame = tmp, y = \"process\", x = str(category), \\\n",
    "                       color = \"process\",template=\"plotly_dark\", \\\n",
    "                       color_discrete_sequence = px.colors.sequential.Plasma_r,  \n",
    "                       labels={\"process\": \"Process name\",\n",
    "                     str(category): label(category)},\n",
    "                title=str(category) + \" for \" + workflow_version + \", \" + aligner + \", \" \\\n",
    "                       + infrastructure + \", \" + dataset)                   \n",
    "        fig.update_traces({'marker':{'size': 15}})\n",
    "        path = \"./single_category-\" + workflow_version + \"_\" + dataset + \"_\" \\\n",
    "        + aligner + \"_\" + infrastructure + \"_\" + category + \".html\"\n",
    "        fig.write_html(path)\n",
    "    \n",
    "    \n",
    "def label(category):\n",
    "    if(category==\"read_bytes\"):\n",
    "        return \"Bytes read (MB)\"\n",
    "    elif(category==\"vmem\"):\n",
    "        return \"Virtual memory (MB)\"\n",
    "    elif(category==\"rss\"):\n",
    "        return \"Resident set size (MB)\"\n",
    "    elif(category==\"write_bytes\"):\n",
    "        return \"Bytes written (MB)\"\n",
    "    elif(category==\"duration\"):\n",
    "        return \"Process duration (seconds)\"\n",
    "    elif(category==\"wchar\"):\n",
    "        return \"Written characters (MB)\"\n",
    "    elif(category==\"rchar\"):\n",
    "        return \"Read characters (MB)\"\n",
    "    elif(category==\"syscr\"):\n",
    "        return \"syscr\"\n",
    "    elif(category==\"syscr\"):\n",
    "        return \"syscr\""
   ]
  },
  {
   "cell_type": "code",
   "execution_count": 7,
   "id": "bf5353c5",
   "metadata": {
    "scrolled": false
   },
   "outputs": [
    {
     "data": {
      "text/plain": [
       "<Figure size 640x480 with 0 Axes>"
      ]
     },
     "metadata": {},
     "output_type": "display_data"
    },
    {
     "data": {
      "application/vnd.jupyter.widget-view+json": {
       "model_id": "cc7362293aa94031b5e38be5769fdefa",
       "version_major": 2,
       "version_minor": 0
      },
      "text/plain": [
       "interactive(children=(Checkbox(value=False, description='generate_plotly'), Dropdown(description='dataset', op…"
      ]
     },
     "metadata": {},
     "output_type": "display_data"
    }
   ],
   "source": [
    "\n",
    "#show per wf-version, dataset and aligner: read/written bytes, rss, vmem per task\n",
    "categories = [\"read_bytes\", \"write_bytes\", \"vmem\", \"rss\", \"duration\"]\n",
    "plt.figure()\n",
    "@interact\n",
    "def version_comparison(generate_plotly = False, dataset = sizes, category = categories, infrastructure = clusters, aligner = aligners) :\n",
    "    sb.set(style=\"ticks\")  \n",
    "\n",
    "    tmp = dfs[(dfs.dataset_size == str(dataset)) \\\n",
    "              & (dfs.infrastructure == str(infrastructure)) \\\n",
    "              & (dfs.aligner == str(aligner))]\n",
    "    sb.catplot(data = tmp, kind = \"strip\", y = \"process\", x = str(category), col = \"wf_version\") \n",
    "    plt.show() \n",
    "\n",
    "    if(generate_plotly == True):\n",
    "        fig = px.strip(data_frame = tmp, y = \"process\", x = str(category), facet_col = \"wf_version\", \\\n",
    "                       color = \"process\",template=\"plotly_dark\", \\\n",
    "                       color_discrete_sequence = px.colors.sequential.Plasma_r,  \n",
    "                       labels={\"process\": \"Process name\",\n",
    "                     str(category): label(category)},\n",
    "                title=str(category) + \": comparing RS1 and RS2 for \" + aligner + \", \" \\\n",
    "                       + infrastructure + \", \" + dataset)                   \n",
    "        fig.update_traces({'marker':{'size': 15}})\n",
    "        path = \"./comparison-\" + dataset + \"_\" \\\n",
    "        + aligner + \"_\" + infrastructure + \"_\" + category + \".html\"        \n",
    "        fig.write_html(path)\n"
   ]
  },
  {
   "cell_type": "code",
   "execution_count": 8,
   "id": "2d0491a4",
   "metadata": {
    "scrolled": false
   },
   "outputs": [
    {
     "data": {
      "text/plain": [
       "<Figure size 640x480 with 0 Axes>"
      ]
     },
     "metadata": {},
     "output_type": "display_data"
    },
    {
     "data": {
      "application/vnd.jupyter.widget-view+json": {
       "model_id": "1c3c6dbeb6264e15a0005138eaa82be0",
       "version_major": 2,
       "version_minor": 0
      },
      "text/plain": [
       "interactive(children=(Checkbox(value=False, description='generate_plotly'), Dropdown(description='dataset', op…"
      ]
     },
     "metadata": {},
     "output_type": "display_data"
    }
   ],
   "source": [
    "#show runtimes & average runtimes, compared for RS1 and RS2\n",
    "plt.figure()\n",
    "@interact\n",
    "def plot_overall_runtime(generate_plotly = False, dataset = sizes, infrastructure = clusters, aligner = aligners) :\n",
    "    sb.set(style=\"ticks\")  \n",
    "\n",
    "    df_runtime = time_per_wf[(time_per_wf.dataset_size == str(dataset)) \\\n",
    "              & (time_per_wf.infrastructure == str(infrastructure)) \\\n",
    "              & (time_per_wf.aligner == str(aligner))]\n",
    "    stripplot = sb.stripplot(data=df_runtime, x=\"wf_version\", y=\"wf_duration\",color=\"k\")\n",
    "    df_runtime_grouped = df_runtime.groupby([\"wf_version\",\"dataset_size\",\"aligner\"]).mean()\n",
    "    df_runtime_grouped.reset_index(inplace=True)\n",
    "    sb.barplot(data = df_runtime_grouped, x=\"wf_version\",y=\"wf_duration\", color=\"0.7\")\n",
    "    plt.title(\"Average workflow runtime for RS1 and RS2\")\n",
    "    plt.show() \n",
    "    \n",
    "    \n",
    "    \n",
    "    if(generate_plotly==True):\n",
    "        fig = px.strip(data_frame = df_runtime, x = \"wf_version\", y = \"wf_duration\", \\\n",
    "        template=\"plotly_dark\", color_discrete_sequence = px.colors.sequential.Jet_r, \\\n",
    "        labels={\"wf_version\": \"Workflow version\", \\\n",
    "                     \"wf_duration\": \"Workflow duration in minutes\"}, \\\n",
    "                title=\"comparing the overall workflow runtime for RS1 and RS2 for \" + aligner + \", \" \\\n",
    "                       + infrastructure + \", \" + dataset)                   \n",
    "        fig.update_traces({'marker':{'size': 15}})\n",
    "        mean_dur_RS1 = 0\n",
    "        mean_dur_RS2 = 0\n",
    "        mean_dur_RS1 = df_runtime_grouped[(df_runtime_grouped.wf_version == \"RS1\")][\"wf_duration\"].tolist()[0]\n",
    "        mean_dur_RS2 = df_runtime_grouped[(df_runtime_grouped.wf_version == \"RS2\")][\"wf_duration\"].tolist()[0]\n",
    "\n",
    "        fig.update_layout(shapes=[dict(type='line', x0=.2, y0=mean_dur_RS1, x1=.3, y1=mean_dur_RS1,\n",
    "                               xref='paper', yref='y',\n",
    "                               line_width=3, line_color='white'),\n",
    "                          dict(type='line', x0=.72, y0=mean_dur_RS2, x1=.82, y1=mean_dur_RS2,\n",
    "                               xref='paper', yref='y',\n",
    "                               line_width=3, line_color='white')\n",
    "                         ])\n",
    "        path = \"./overall-runtime-\" + dataset + \"_\" \\\n",
    "        + aligner + \"_\" + infrastructure + \".html\"        \n",
    "        fig.write_html(path)\n"
   ]
  },
  {
   "cell_type": "code",
   "execution_count": 9,
   "id": "83e14b39",
   "metadata": {
    "scrolled": false
   },
   "outputs": [
    {
     "data": {
      "text/plain": [
       "<Figure size 640x480 with 0 Axes>"
      ]
     },
     "metadata": {},
     "output_type": "display_data"
    },
    {
     "data": {
      "application/vnd.jupyter.widget-view+json": {
       "model_id": "f9de7674083f4c2aaf87b26173721734",
       "version_major": 2,
       "version_minor": 0
      },
      "text/plain": [
       "interactive(children=(Checkbox(value=False, description='generate_plotly'), Dropdown(description='dataset', op…"
      ]
     },
     "metadata": {},
     "output_type": "display_data"
    }
   ],
   "source": [
    "#show alignment\n",
    "plt.figure()\n",
    "@interact\n",
    "def plot_runtime_alignment(generate_plotly = False, dataset = sizes, infrastructure = clusters, aligner = aligners) :\n",
    "    sb.set(style=\"ticks\")  \n",
    "\n",
    "    tmp = dfs[(dfs.dataset_size == str(dataset)) \\\n",
    "              & (dfs.infrastructure == str(infrastructure)) \\\n",
    "              & (dfs.aligner == str(aligner))\n",
    "             &  ( (dfs.process ==\"rnaseq:kallisto_map\") \\\n",
    "                | (dfs.process ==\"STAR_ALIGN\") \\\n",
    "                | (dfs.process ==\"HISAT2_ALIGN\") \\\n",
    "                | (dfs.process ==\"SALMON_ALIGN_QUANT\"))]\n",
    "    sb.stripplot(data = tmp, y = \"duration\", x = \"wf_version\",color=\"k\") \n",
    "    df_grouped = tmp.groupby([\"wf_version\",\"dataset_size\",\"aligner\"]).mean()\n",
    "    df_grouped.reset_index(inplace=True)\n",
    "    sb.barplot(data = df_grouped, x=\"wf_version\",y=\"duration\", color=\"0.7\")\n",
    "    plt.title(\"Compared duration (seconds) of the alignment process of the selceted dataset, aligner and infra\")\n",
    "    plt.show() \n",
    "    \n",
    "       \n",
    "    if(generate_plotly==True):\n",
    "        fig = px.strip(data_frame = tmp, x = \"wf_version\", y = \"duration\", \\\n",
    "        template=\"plotly_dark\", color_discrete_sequence = px.colors.sequential.Jet_r, \\\n",
    "        labels={\"wf_version\": \"Workflow version\", \\\n",
    "                     \"duration\": \"Process duration in sceonds\"}, \\\n",
    "                title=\"comparing the runtime of the single alignment processes for RS1 and RS2 for \" + aligner + \", \" \\\n",
    "                       + infrastructure + \", \" + dataset)                   \n",
    "        fig.update_traces({'marker':{'size': 15}})\n",
    "        mean_dur_RS1 = 0\n",
    "        mean_dur_RS2 = 0\n",
    "        mean_dur_RS1 = df_grouped[(df_grouped.wf_version == \"RS1\")][\"duration\"].tolist()[0]\n",
    "        mean_dur_RS2 = df_grouped[(df_grouped.wf_version == \"RS2\")][\"duration\"].tolist()[0]\n",
    "        \n",
    "        fig.update_layout(shapes=[dict(type='line', x0=.2, y0=mean_dur_RS1, x1=.3, y1=mean_dur_RS1,\n",
    "                               xref='paper', yref='y',\n",
    "                               line_width=3, line_color='white'),\n",
    "                          dict(type='line', x0=.7, y0=mean_dur_RS2, x1=.8, y1=mean_dur_RS2,\n",
    "                               xref='paper', yref='y',\n",
    "                               line_width=3, line_color='white')\n",
    "                         ])\n",
    "        path = \"./alignment-runtime-\" + dataset + \"_\" \\\n",
    "        + aligner + \"_\" + infrastructure + \".html\"        \n",
    "        fig.write_html(path) \n"
   ]
  },
  {
   "cell_type": "code",
   "execution_count": null,
   "id": "6ea1de3c",
   "metadata": {},
   "outputs": [],
   "source": []
  },
  {
   "cell_type": "code",
   "execution_count": null,
   "id": "c756ba9a",
   "metadata": {},
   "outputs": [],
   "source": []
  },
  {
   "cell_type": "code",
   "execution_count": null,
   "id": "c8a761ca",
   "metadata": {},
   "outputs": [],
   "source": []
  },
  {
   "cell_type": "code",
   "execution_count": null,
   "id": "5015b3ef",
   "metadata": {},
   "outputs": [],
   "source": []
  },
  {
   "cell_type": "code",
   "execution_count": null,
   "id": "4d4858f5",
   "metadata": {},
   "outputs": [],
   "source": []
  },
  {
   "cell_type": "code",
   "execution_count": null,
   "id": "a08f41df",
   "metadata": {},
   "outputs": [],
   "source": []
  },
  {
   "cell_type": "code",
   "execution_count": null,
   "id": "7d625960",
   "metadata": {},
   "outputs": [],
   "source": []
  },
  {
   "cell_type": "code",
   "execution_count": null,
   "id": "3e50f471",
   "metadata": {},
   "outputs": [],
   "source": []
  },
  {
   "cell_type": "code",
   "execution_count": null,
   "id": "2fd295b5",
   "metadata": {},
   "outputs": [],
   "source": []
  },
  {
   "cell_type": "code",
   "execution_count": null,
   "id": "e3a709d4",
   "metadata": {},
   "outputs": [],
   "source": []
  },
  {
   "cell_type": "code",
   "execution_count": null,
   "id": "ffd41f6e",
   "metadata": {},
   "outputs": [],
   "source": []
  },
  {
   "cell_type": "code",
   "execution_count": null,
   "id": "fb5d492c",
   "metadata": {},
   "outputs": [],
   "source": []
  },
  {
   "cell_type": "code",
   "execution_count": null,
   "id": "b3c33700",
   "metadata": {},
   "outputs": [],
   "source": []
  },
  {
   "cell_type": "code",
   "execution_count": null,
   "id": "7ba20639",
   "metadata": {},
   "outputs": [],
   "source": []
  },
  {
   "cell_type": "code",
   "execution_count": null,
   "id": "86378f47",
   "metadata": {},
   "outputs": [],
   "source": []
  },
  {
   "cell_type": "code",
   "execution_count": null,
   "id": "b438ca1b",
   "metadata": {},
   "outputs": [],
   "source": []
  },
  {
   "cell_type": "code",
   "execution_count": null,
   "id": "010a7c8f",
   "metadata": {},
   "outputs": [],
   "source": []
  }
 ],
 "metadata": {
  "kernelspec": {
   "display_name": "Python 3 (ipykernel)",
   "language": "python",
   "name": "python3"
  },
  "language_info": {
   "codemirror_mode": {
    "name": "ipython",
    "version": 3
   },
   "file_extension": ".py",
   "mimetype": "text/x-python",
   "name": "python",
   "nbconvert_exporter": "python",
   "pygments_lexer": "ipython3",
   "version": "3.10.12"
  }
 },
 "nbformat": 4,
 "nbformat_minor": 5
}
