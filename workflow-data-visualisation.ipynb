{
 "cells": [
  {
   "cell_type": "code",
   "execution_count": 1,
   "id": "13e11d48",
   "metadata": {
    "scrolled": false
   },
   "outputs": [],
   "source": [
    "#transform redwood traces to pandas-importable csv-files\n",
    "import sys\n",
    "import os\n",
    "import chart_studio.plotly as py\n",
    "import pandas as pd\n",
    "import seaborn as sb\n",
    "import matplotlib.pyplot as plt\n",
    "from ipywidgets import interact, interactive, fixed, interact_manual\n",
    "from datetime import datetime\n",
    "\n",
    "wfs = [\"RS1\", \"RS2\"]\n",
    "sizes = [\"small\", \"medium\", \"large\"]\n",
    "run_numbers = [\"1\", \"2\", \"3\"]\n",
    "clusters = [\"redwood\", \"kubernetes-cluster\"]\n",
    "aligners = [\"STAR\", \"kallisto\", \"HISAT2\", \"Salmon\"]\n",
    "dfs = pd.read_csv(\"result-filtered-columns.csv\")\n",
    "\n",
    "dfs = dfs[['task_id', 'hash', 'native_id', 'process', 'tag', 'name', 'status', 'exit', 'module', 'container', 'cpus', 'time', 'disk', 'memory', 'attempt', 'submit', 'start', 'complete', 'duration', 'realtime', 'queue', '%cpu', '%mem', 'rss', 'vmem', 'peak_rss', 'peak_vmem', 'rchar', 'wchar', 'syscr', 'syscw', 'read_bytes', 'write_bytes', 'vol_ctxt', 'inv_ctxt', 'env', 'workdir', 'wf_version', 'dataset_size', 'run_number', 'infrastructure', 'aligner', 'hostname']]\n"
   ]
  },
  {
   "cell_type": "code",
   "execution_count": 2,
   "id": "f8e5ec45",
   "metadata": {},
   "outputs": [],
   "source": [
    "#transform data from MB/GB to MB; from str to float\n",
    "categories = [\"read_bytes\", \"write_bytes\", \"rss\", \"vmem\"]\n",
    "for el in categories:\n",
    "    tmp = dfs[el].tolist()\n",
    "    final = []\n",
    "    for element in tmp:\n",
    "        try:\n",
    "            x = float(element)\n",
    "        except ValueError:\n",
    "            y = element.split(\" \")\n",
    "            if(y[-1]==\"MB\"):\n",
    "                x = float(y[0])\n",
    "            elif(y[-1]==\"GB\"):\n",
    "                x = float(y[0]) * 1000\n",
    "            elif(y[-1]==\"KB\"):\n",
    "                x = float(y[0]) / 1000\n",
    "            else:\n",
    "                raise Exception(\"object is not int, KB, MB, GB: \" + element)\n",
    "        final.append(x)\n",
    "    dfs[el] = final"
   ]
  },
  {
   "cell_type": "code",
   "execution_count": 3,
   "id": "0a7f62f5",
   "metadata": {},
   "outputs": [],
   "source": [
    "#transform duration from string to seconds\n",
    "tmp = dfs[\"duration\"].tolist()\n",
    "final = []\n",
    "for el in tmp: \n",
    "    duration = 0\n",
    "    time_list = el.split(\" \")\n",
    "    for element in time_list:\n",
    "        time_unit = element[-1:]\n",
    "        if(time_unit == \"s\"):\n",
    "            duration += float(element[:-1])\n",
    "        elif(time_unit == \"m\"):\n",
    "            duration += (60*float(element[:-1]))\n",
    "        elif(time_unit == \"h\"):\n",
    "            duration += (3600*float(element[:-1]))\n",
    "    final.append(duration)\n",
    "dfs[\"duration\"] = final\n"
   ]
  },
  {
   "cell_type": "code",
   "execution_count": 4,
   "id": "b0eec75d",
   "metadata": {},
   "outputs": [],
   "source": [
    "#for each workflow run, get duration of wf\n",
    "df_tmp = dfs[[\"wf_version\",\"infrastructure\",\"aligner\",\"dataset_size\",\"run_number\",\"start\",\"complete\"]]\n",
    "time_per_wf = df_tmp.groupby([\"wf_version\",\"infrastructure\",\"aligner\",\"dataset_size\",\"run_number\"]).agg({\"start\": \"min\",\"complete\": \"max\"})\n",
    "start = time_per_wf[\"start\"].tolist()\n",
    "end = time_per_wf[\"complete\"].tolist()\n",
    "start_stamps = []\n",
    "end_stamps = []\n",
    "time_d = []\n",
    "for k in range(len(start)):\n",
    "    start_stamps.append(datetime.strptime(start[k], \"%Y-%m-%d %H:%M:%S.%f\")) \n",
    "    end_stamps.append(datetime.strptime(end[k], \"%Y-%m-%d %H:%M:%S.%f\")) \n",
    "    time_d.append((end_stamps[k] - start_stamps[k]).total_seconds()/60)\n",
    "time_per_wf[\"wf_duration\"] = time_d\n",
    "time_per_wf.reset_index(inplace=True)\n"
   ]
  },
  {
   "cell_type": "code",
   "execution_count": 5,
   "id": "45f297ca",
   "metadata": {
    "scrolled": false
   },
   "outputs": [
    {
     "data": {
      "application/vnd.jupyter.widget-view+json": {
       "model_id": "22eec8d9aa214508903f013499b0a9a9",
       "version_major": 2,
       "version_minor": 0
      },
      "text/plain": [
       "interactive(children=(Dropdown(description='workflow_version', options=('RS1', 'RS2'), value='RS1'), Dropdown(…"
      ]
     },
     "metadata": {},
     "output_type": "display_data"
    }
   ],
   "source": [
    "#show per wf-version, dataset and aligner: read/written bytes, rss, vmem per task\n",
    "categories = [\"read_bytes\", \"write_bytes\", \"vmem\", \"rss\", \"duration\"]\n",
    "@interact\n",
    "def plot_features(workflow_version = wfs, dataset = sizes, category = categories, infrastructure = clusters, aligner = aligners) :\n",
    "    #fig = plt.figure(figsize=(8,4))\n",
    "    #sb.set(style=\"ticks\")    \n",
    "    tmp = dfs[(dfs.dataset_size == str(dataset)) \\\n",
    "              & (dfs.wf_version == str(workflow_version)) \\\n",
    "              & (dfs.infrastructure == str(infrastructure)) \\\n",
    "              & (dfs.aligner == str(aligner))]\n",
    "    \n",
    "    sb.stripplot(data = tmp, y = \"process\", x = str(category)) \\\n",
    "\n",
    "    plt.title(aligner + \"\\n\" + infrastructure + \"\\n workflow: \" + workflow_version + \", dataset: \" + str(sizes))\n",
    "    plt.show()"
   ]
  },
  {
   "cell_type": "code",
   "execution_count": 6,
   "id": "bf5353c5",
   "metadata": {
    "scrolled": false
   },
   "outputs": [
    {
     "data": {
      "text/plain": [
       "<Figure size 640x480 with 0 Axes>"
      ]
     },
     "metadata": {},
     "output_type": "display_data"
    },
    {
     "data": {
      "application/vnd.jupyter.widget-view+json": {
       "model_id": "463bf92cb955405c84051c8bc29b47f6",
       "version_major": 2,
       "version_minor": 0
      },
      "text/plain": [
       "interactive(children=(Dropdown(description='dataset', options=('small', 'medium', 'large'), value='small'), Dr…"
      ]
     },
     "metadata": {},
     "output_type": "display_data"
    }
   ],
   "source": [
    "\n",
    "#show per wf-version, dataset and aligner: read/written bytes, rss, vmem per task\n",
    "categories = [\"read_bytes\", \"write_bytes\", \"vmem\", \"rss\", \"duration\"]\n",
    "plt.figure()\n",
    "@interact\n",
    "def version_comparison(dataset = sizes, category = categories, infrastructure = clusters, aligner = aligners) :\n",
    "    sb.set(style=\"ticks\")  \n",
    "\n",
    "    tmp = dfs[(dfs.dataset_size == str(dataset)) \\\n",
    "              & (dfs.infrastructure == str(infrastructure)) \\\n",
    "              & (dfs.aligner == str(aligner))]\n",
    "    sb.catplot(data = tmp, kind = \"strip\", y = \"process\", x = str(category), col = \"wf_version\") \n",
    "    plt.show() \n"
   ]
  },
  {
   "cell_type": "code",
   "execution_count": 7,
   "id": "2d0491a4",
   "metadata": {
    "scrolled": false
   },
   "outputs": [
    {
     "data": {
      "text/plain": [
       "<Figure size 640x480 with 0 Axes>"
      ]
     },
     "metadata": {},
     "output_type": "display_data"
    },
    {
     "data": {
      "application/vnd.jupyter.widget-view+json": {
       "model_id": "609c6ac34d2b41a7aa621835f6e906ed",
       "version_major": 2,
       "version_minor": 0
      },
      "text/plain": [
       "interactive(children=(Dropdown(description='dataset', options=('small', 'medium', 'large'), value='small'), Dr…"
      ]
     },
     "metadata": {},
     "output_type": "display_data"
    }
   ],
   "source": [
    "#show runtimes & average runtimes, compared for RS1 and RS2\n",
    "plt.figure()\n",
    "@interact\n",
    "def plot_overall_runtime(dataset = sizes, infrastructure = clusters, aligner = aligners) :\n",
    "    sb.set(style=\"ticks\")  \n",
    "\n",
    "    df_runtime = time_per_wf[(time_per_wf.dataset_size == str(dataset)) \\\n",
    "              & (time_per_wf.infrastructure == str(infrastructure)) \\\n",
    "              & (time_per_wf.aligner == str(aligner))]\n",
    "    stripplot = sb.stripplot(data=df_runtime, x=\"wf_version\", y=\"wf_duration\",color=\"k\")\n",
    "    df_runtime_grouped = df_runtime.groupby([\"wf_version\",\"dataset_size\",\"aligner\"]).mean()\n",
    "    df_runtime_grouped.reset_index(inplace=True)\n",
    "    sb.barplot(data = df_runtime_grouped, x=\"wf_version\",y=\"wf_duration\", color=\"0.7\")\n",
    "    plt.title(\"Average workflow runtime for RS1 and RS2\")\n",
    "    plt.show() \n"
   ]
  },
  {
   "cell_type": "code",
   "execution_count": 8,
   "id": "83e14b39",
   "metadata": {
    "scrolled": false
   },
   "outputs": [
    {
     "data": {
      "text/plain": [
       "<Figure size 640x480 with 0 Axes>"
      ]
     },
     "metadata": {},
     "output_type": "display_data"
    },
    {
     "data": {
      "application/vnd.jupyter.widget-view+json": {
       "model_id": "dec7a5d736d14666bf1a1962c49c1839",
       "version_major": 2,
       "version_minor": 0
      },
      "text/plain": [
       "interactive(children=(Dropdown(description='dataset', options=('small', 'medium', 'large'), value='small'), Dr…"
      ]
     },
     "metadata": {},
     "output_type": "display_data"
    }
   ],
   "source": [
    "#show alignment\n",
    "plt.figure()\n",
    "@interact\n",
    "def plot_runtime_alignment(dataset = sizes, infrastructure = clusters, aligner = aligners) :\n",
    "    sb.set(style=\"ticks\")  \n",
    "\n",
    "    tmp = dfs[(dfs.dataset_size == str(dataset)) \\\n",
    "              & (dfs.infrastructure == str(infrastructure)) \\\n",
    "              & (dfs.aligner == str(aligner))\n",
    "             &  ( (dfs.process ==\"rnaseq:kallisto_map\") \\\n",
    "                | (dfs.process ==\"STAR_ALIGN\") \\\n",
    "                | (dfs.process ==\"HISAT2_ALIGN\") \\\n",
    "                | (dfs.process ==\"SALMON_ALIGN_QUANT\"))]\n",
    "    sb.stripplot(data = tmp, y = \"duration\", x = \"wf_version\",color=\"k\") \n",
    "    df_grouped = tmp.groupby([\"wf_version\",\"dataset_size\",\"aligner\"]).mean()\n",
    "    df_grouped.reset_index(inplace=True)\n",
    "    sb.barplot(data = df_grouped, x=\"wf_version\",y=\"duration\", color=\"0.7\")\n",
    "\n",
    "    plt.title(\"Compared duration (seconds) of the alignment process of the selceted dataset, aligner and infra\")\n",
    "    plt.show() \n"
   ]
  },
  {
   "cell_type": "code",
   "execution_count": null,
   "id": "6ea1de3c",
   "metadata": {},
   "outputs": [],
   "source": []
  },
  {
   "cell_type": "code",
   "execution_count": null,
   "id": "c756ba9a",
   "metadata": {},
   "outputs": [],
   "source": []
  },
  {
   "cell_type": "code",
   "execution_count": null,
   "id": "c8a761ca",
   "metadata": {},
   "outputs": [],
   "source": []
  },
  {
   "cell_type": "code",
   "execution_count": null,
   "id": "5015b3ef",
   "metadata": {},
   "outputs": [],
   "source": []
  },
  {
   "cell_type": "code",
   "execution_count": null,
   "id": "4d4858f5",
   "metadata": {},
   "outputs": [],
   "source": []
  },
  {
   "cell_type": "code",
   "execution_count": null,
   "id": "a08f41df",
   "metadata": {},
   "outputs": [],
   "source": []
  },
  {
   "cell_type": "code",
   "execution_count": null,
   "id": "7d625960",
   "metadata": {},
   "outputs": [],
   "source": []
  },
  {
   "cell_type": "code",
   "execution_count": null,
   "id": "3e50f471",
   "metadata": {},
   "outputs": [],
   "source": []
  },
  {
   "cell_type": "code",
   "execution_count": null,
   "id": "2fd295b5",
   "metadata": {},
   "outputs": [],
   "source": []
  },
  {
   "cell_type": "code",
   "execution_count": null,
   "id": "e3a709d4",
   "metadata": {},
   "outputs": [],
   "source": []
  },
  {
   "cell_type": "code",
   "execution_count": null,
   "id": "ffd41f6e",
   "metadata": {},
   "outputs": [],
   "source": []
  },
  {
   "cell_type": "code",
   "execution_count": null,
   "id": "fb5d492c",
   "metadata": {},
   "outputs": [],
   "source": []
  },
  {
   "cell_type": "code",
   "execution_count": null,
   "id": "b3c33700",
   "metadata": {},
   "outputs": [],
   "source": []
  },
  {
   "cell_type": "code",
   "execution_count": null,
   "id": "7ba20639",
   "metadata": {},
   "outputs": [],
   "source": []
  }
 ],
 "metadata": {
  "kernelspec": {
   "display_name": "Python 3 (ipykernel)",
   "language": "python",
   "name": "python3"
  },
  "language_info": {
   "codemirror_mode": {
    "name": "ipython",
    "version": 3
   },
   "file_extension": ".py",
   "mimetype": "text/x-python",
   "name": "python",
   "nbconvert_exporter": "python",
   "pygments_lexer": "ipython3",
   "version": "3.10.6"
  }
 },
 "nbformat": 4,
 "nbformat_minor": 5
}
